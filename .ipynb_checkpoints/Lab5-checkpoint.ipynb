{
 "cells": [
  {
   "cell_type": "code",
   "execution_count": 2,
   "id": "62b0aaf6",
   "metadata": {},
   "outputs": [
    {
     "ename": "TypeError",
     "evalue": "'int' object is not callable",
     "output_type": "error",
     "traceback": [
      "\u001b[1;31m---------------------------------------------------------------------------\u001b[0m",
      "\u001b[1;31mTypeError\u001b[0m                                 Traceback (most recent call last)",
      "Cell \u001b[1;32mIn[2], line 7\u001b[0m\n\u001b[0;32m      1\u001b[0m \u001b[38;5;66;03m# Q1\u001b[39;00m\n\u001b[0;32m      2\u001b[0m \n\u001b[0;32m      3\u001b[0m \u001b[38;5;66;03m##First Method\u001b[39;00m\n\u001b[0;32m      5\u001b[0m x \u001b[38;5;241m=\u001b[39m [\u001b[38;5;241m5\u001b[39m, \u001b[38;5;241m4\u001b[39m, \u001b[38;5;241m17\u001b[39m, \u001b[38;5;241m19\u001b[39m, \u001b[38;5;241m30\u001b[39m, \u001b[38;5;241m2\u001b[39m, \u001b[38;5;241m7\u001b[39m, \u001b[38;5;241m10\u001b[39m, \u001b[38;5;241m45\u001b[39m]\n\u001b[1;32m----> 7\u001b[0m \u001b[38;5;28mprint\u001b[39m(\u001b[38;5;28;43msum\u001b[39;49m\u001b[43m(\u001b[49m\u001b[43mx\u001b[49m\u001b[43m)\u001b[49m)\n\u001b[0;32m     10\u001b[0m \u001b[38;5;66;03m## Second Method\u001b[39;00m\n\u001b[0;32m     12\u001b[0m y\u001b[38;5;241m=\u001b[39m\u001b[38;5;241m0\u001b[39m\n",
      "\u001b[1;31mTypeError\u001b[0m: 'int' object is not callable"
     ]
    }
   ],
   "source": [
    "# Q1\n",
    "\n",
    "##First Method\n",
    "\n",
    "x = [5, 4, 17, 19, 30, 2, 7, 10, 45]\n",
    "\n",
    "print(sum(x))\n",
    "\n",
    "\n",
    "## Second Method\n",
    "\n",
    "y=0\n",
    "\n",
    "for sum in x:\n",
    "   y+=sum \n",
    "print(y)\n",
    "\n",
    "#---------------------\n",
    "\n",
    "#Q2\n",
    "\n",
    "\n",
    "##First Method\n",
    "\n",
    "\n",
    "print(max(x))\n",
    "\n",
    "\n",
    "## Second Method\n",
    "\n",
    "\n",
    "x_list= x[0]\n",
    "for i in x:\n",
    "   if x_list <i:\n",
    "      x_list= i\n",
    "print( \"This is the Maximum number\", x_list)\n",
    "\n",
    "\n",
    "#---------------------\n",
    "\n",
    "\n",
    "#Q3\n",
    "\n",
    "\n",
    "\n",
    "x = [5, 4, 17, 19, 30, 2, 7, 10, 45]\n",
    "\n",
    "Even_numbers= [i for i in x if i %2==0]\n",
    "\n",
    "print(\"This is a list of the even numbers\", Even_numbers)\n",
    "\n",
    "\n",
    "#---------------------\n",
    "\n",
    "\n",
    "\n",
    "#Q4\n",
    "\n",
    "x = [5, 4, 17, 19, 30, 2, 7, 10, 45]\n",
    "\n",
    "New_list= x[:5]\n",
    "print(\"This is a list from the start to the 5th element\", New_list)"
   ]
  },
  {
   "cell_type": "code",
   "execution_count": null,
   "id": "a585b887",
   "metadata": {},
   "outputs": [],
   "source": []
  }
 ],
 "metadata": {
  "kernelspec": {
   "display_name": "Python 3 (ipykernel)",
   "language": "python",
   "name": "python3"
  },
  "language_info": {
   "codemirror_mode": {
    "name": "ipython",
    "version": 3
   },
   "file_extension": ".py",
   "mimetype": "text/x-python",
   "name": "python",
   "nbconvert_exporter": "python",
   "pygments_lexer": "ipython3",
   "version": "3.10.9"
  }
 },
 "nbformat": 4,
 "nbformat_minor": 5
}
